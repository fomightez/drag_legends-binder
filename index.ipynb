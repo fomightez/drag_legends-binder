{
 "cells": [
  {
   "cell_type": "markdown",
   "metadata": {},
   "source": [
    "Demo of Draggable Legends in Matplotlib\n",
    "=======================================\n",
    "\n",
    "Saw this post by @josieapeters on Twitter:\n",
    ">\"discovery of the day: there is a DRAGGABLE option for your legend in matplotlib in python. did anyone else already know about this ?! https://matplotlib.org/1.5.1/api/legend_api.html\" - SOURCE: @josieapeters https://twitter.com/josieapeters/status/988805971144212481\n",
    "\n",
    "Had to try.\n",
    "\n",
    "Possible in Seaborn too?"
   ]
  },
  {
   "cell_type": "code",
   "execution_count": null,
   "metadata": {},
   "outputs": [],
   "source": [
    "%matplotlib notebook \n",
    "# based on https://twitter.com/josieapeters/status/988805971144212481\n",
    "#>\"discovery of the day: there is a DRAGGABLE option for your legend\n",
    "# in matplotlib in python. did anyone else already know about this \n",
    "# ?! https://matplotlib.org/1.5.1/api/legend_api.html …\"\n",
    "# and https://stackoverflow.com/questions/23784399/how-to-visualize-a-nonlinear-relationship-in-a-scatter-plot\n",
    "import matplotlib.pyplot as plt\n",
    "import numpy as np\n",
    "from statsmodels.nonparametric.smoothers_lowess import lowess\n",
    "x = np.arange(0,10,0.01)\n",
    "ytrue = np.exp(-x/5.0) + 2*np.sin(x/3.0)\n",
    "\n",
    "# add random errors with a normal distribution                      \n",
    "y = ytrue + np.random.normal(size=len(x))\n",
    "\n",
    "\n",
    "\n",
    "plt.scatter(x,y,color='cyan', label=\"Drag Me\")\n",
    "plt.legend()\n",
    "plt.legend().draggable(state=True)\n",
    "plt.show()"
   ]
  },
  {
   "cell_type": "code",
   "execution_count": null,
   "metadata": {},
   "outputs": [],
   "source": [
    "%matplotlib notebook\n",
    "# based on https://twitter.com/josieapeters/status/988805971144212481\n",
    "#>\"discovery of the day: there is a DRAGGABLE option for your legend\n",
    "# in matplotlib in python. did anyone else already know about this \n",
    "# ?! https://matplotlib.org/1.5.1/api/legend_api.html …\"\n",
    "# and https://stackoverflow.com/a/19125863/8508004\n",
    "import numpy as np\n",
    "import matplotlib.pyplot as plt\n",
    "x = np.linspace(0, 20, 1000)\n",
    "y1 = np.sin(x)\n",
    "y2 = np.cos(x)\n",
    "\n",
    "plt.plot(x, y1, '-b', label='sine')\n",
    "plt.plot(x, y2, '-r', label='cosine')\n",
    "plt.legend(loc='upper left')\n",
    "plt.legend()\n",
    "plt.legend().draggable(state=True)\n",
    "plt.ylim(-1.5, 2.0)\n",
    "plt.show()\n",
    "# DRAG LEGEND"
   ]
  },
  {
   "cell_type": "code",
   "execution_count": null,
   "metadata": {},
   "outputs": [],
   "source": [
    "%matplotlib notebook\n",
    "# based on https://twitter.com/josieapeters/status/988805971144212481\n",
    "#>\"discovery of the day: there is a DRAGGABLE option for your legend\n",
    "# in matplotlib in python. did anyone else already know about this \n",
    "# ?! https://matplotlib.org/1.5.1/api/legend_api.html …\"\n",
    "# and https://stackoverflow.com/q/28967911/8508004\n",
    "import matplotlib.pyplot as plt\n",
    "\n",
    "fig1, ax1 = plt.subplots()\n",
    "\n",
    "\n",
    "ax1.plot([1,2,3],[0.1,0.82,0.3],'y*', label=\"Drag Me\")\n",
    "\n",
    "\n",
    "leg1 = ax1.legend()\n",
    "leg1.draggable(state=True)\n",
    "plt.show()"
   ]
  },
  {
   "cell_type": "code",
   "execution_count": null,
   "metadata": {},
   "outputs": [],
   "source": []
  }
 ],
 "metadata": {
  "kernelspec": {
   "display_name": "Python 3",
   "language": "python",
   "name": "python3"
  },
  "language_info": {
   "codemirror_mode": {
    "name": "ipython",
    "version": 3
   },
   "file_extension": ".py",
   "mimetype": "text/x-python",
   "name": "python",
   "nbconvert_exporter": "python",
   "pygments_lexer": "ipython3",
   "version": "3.6.3"
  }
 },
 "nbformat": 4,
 "nbformat_minor": 2
}
